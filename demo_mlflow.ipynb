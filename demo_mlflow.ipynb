{
 "cells": [
  {
   "cell_type": "markdown",
   "id": "44f3474b",
   "metadata": {},
   "source": [
    "### To create virtualenv in python\n",
    "- Run below commands in gitbash\n",
    "- python -m venv mlflow_myenv\n",
    "- source mlflow_myenv/Scripts/activate\n",
    "- pip install ipykernel\n",
    "- python -m ipykernel install --user --name=mlflow_myenv --display-name \"Python(mlflow_myenv)\"\n",
    "- pip install -r requirement.txt\n",
    "\n",
    "- keep in mind to run \"mlflow ui\" in gitbash from same directory where your mlruns folder is to run mlflow GUI"
   ]
  },
  {
   "cell_type": "code",
   "execution_count": null,
   "id": "da72b21a",
   "metadata": {},
   "outputs": [
    {
     "data": {
      "text/html": [
       "<pre style=\"white-space:pre;overflow-x:auto;line-height:normal;font-family:Menlo,'DejaVu Sans Mono',consolas,'Courier New',monospace\">                                       <span style=\"font-weight: bold\">❗❗❗ AUTHORIZATION REQUIRED ❗❗❗</span>                                        \n",
       "</pre>\n"
      ],
      "text/plain": [
       "                                       \u001b[1m❗❗❗ AUTHORIZATION REQUIRED ❗❗❗\u001b[0m                                        \n"
      ]
     },
     "metadata": {},
     "output_type": "display_data"
    },
    {
     "data": {
      "text/html": [
       "<pre style=\"white-space:pre;overflow-x:auto;line-height:normal;font-family:Menlo,'DejaVu Sans Mono',consolas,'Courier New',monospace\">C:\\Users\\shubh\\Desktop\\delete\\mlflow\\demo\\mlflow_myenv\\Lib\\site-packages\\rich\\live.py:231: UserWarning: install \n",
       "\"ipywidgets\" for Jupyter support\n",
       "  warnings.warn('install \"ipywidgets\" for Jupyter support')\n",
       "</pre>\n"
      ],
      "text/plain": [
       "C:\\Users\\shubh\\Desktop\\delete\\mlflow\\demo\\mlflow_myenv\\Lib\\site-packages\\rich\\live.py:231: UserWarning: install \n",
       "\"ipywidgets\" for Jupyter support\n",
       "  warnings.warn('install \"ipywidgets\" for Jupyter support')\n"
      ]
     },
     "metadata": {},
     "output_type": "display_data"
    },
    {
     "name": "stdout",
     "output_type": "stream",
     "text": [
      "\n",
      "\n",
      "Open the following link in your browser to authorize the client:\n",
      "https://dagshub.com/login/oauth/authorize?state=078d209f-1703-441c-9158-21de38531c6f&client_id=32b60ba385aa7cecf24046d8195a71c07dd345d9657977863b52e7748e0f0f28&middleman_request_id=2e06418540024e6c3560dcf685880d27e35a21d5e537b8237180a4f7f13f4098\n",
      "\n",
      "\n"
     ]
    },
    {
     "data": {
      "text/html": [
       "<pre style=\"white-space:pre;overflow-x:auto;line-height:normal;font-family:Menlo,'DejaVu Sans Mono',consolas,'Courier New',monospace\"></pre>\n"
      ],
      "text/plain": []
     },
     "metadata": {},
     "output_type": "display_data"
    }
   ],
   "source": [
    "import dagshub\n",
    "dagshub.init(repo_owner='ShubhPatil95', repo_name='MLFLOW_Tutorial', mlflow=True)\n",
    "mlflow.set_tracking_uri(\"https://dagshub.com/ShubhPatil95/MLFLOW_Tutorial.mlflow\")\n",
    "\n",
    "with mlflow.start_run():\n",
    "    mlflow.log_param(\"param1\",200)\n",
    "    mlflow.log_param(\"param2\",300)\n",
    "    \n",
    "    mlflow.log_metric(\"metric1\",0.1)\n",
    "    mlflow.log_metric(\"metric2\",0.2)\n",
    "    "
   ]
  },
  {
   "cell_type": "code",
   "execution_count": null,
   "id": "6b5aa390",
   "metadata": {},
   "outputs": [],
   "source": [
    "import dagshub\n",
    "dagshub.init(repo_owner='ShubhPatil95', repo_name='MLFLOW_Tutorial', mlflow=True)\n",
    "mlflow.set_tracking_uri(\"https://dagshub.com/ShubhPatil95/MLFLOW_Tutorial.mlflow\")\n",
    "import mlflow\n",
    "with mlflow.start_run():\n",
    "  mlflow.log_param('parameter name', 'value')\n",
    "  mlflow.log_metric('metric name', 1)"
   ]
  },
  {
   "cell_type": "code",
   "execution_count": 45,
   "id": "eb9a6f47",
   "metadata": {},
   "outputs": [
    {
     "name": "stderr",
     "output_type": "stream",
     "text": [
      "2024/09/24 22:45:54 WARNING mlflow.models.model: Model logged without a signature and input example. Please set `input_example` parameter when logging the model to auto infer the model signature.\n"
     ]
    }
   ],
   "source": [
    "import mlflow\n",
    "import mlflow.sklearn\n",
    "import pandas as pd\n",
    "from sklearn.datasets import load_iris\n",
    "from sklearn.model_selection import train_test_split\n",
    "from sklearn.ensemble import RandomForestClassifier\n",
    "from sklearn.metrics import accuracy_score\n",
    "\n",
    "iris = load_iris()\n",
    "X,Y = iris.data, iris.target\n",
    "feature_names=iris.feature_names\n",
    "X_df = pd.DataFrame(X,columns=feature_names)\n",
    "X_train,X_test,y_train,y_test = train_test_split(X,Y,test_size=0.2)\n",
    "\n",
    "with mlflow.start_run():    \n",
    "    n_estimators=500\n",
    "    max_depth=15\n",
    "    model = RandomForestClassifier(n_estimators=n_estimators,max_depth=max_depth)\n",
    "    model.fit(X_train,y_train)\n",
    "    y_test_pred = model.predict(X_test)\n",
    "    accuracy=accuracy_score(y_test,y_test_pred)\n",
    "    \n",
    "    mlflow.log_param(\"n_estimators\",n_estimators)\n",
    "    mlflow.log_param(\"max_depth\",max_depth)\n",
    "    \n",
    "    mlflow.log_metric(\"accuracy\",accuracy)\n",
    "    \n",
    "    mlflow.sklearn.log_model(model,\"random_forest\")\n",
    "    \n",
    "    mlflow.log_artifact(\"requirement.txt\")\n",
    "    \n",
    "    \n",
    "    \n",
    "    \n",
    "    "
   ]
  }
 ],
 "metadata": {
  "kernelspec": {
   "display_name": "Python(mlflow_myenv)",
   "language": "python",
   "name": "mlflow_myenv"
  },
  "language_info": {
   "codemirror_mode": {
    "name": "ipython",
    "version": 3
   },
   "file_extension": ".py",
   "mimetype": "text/x-python",
   "name": "python",
   "nbconvert_exporter": "python",
   "pygments_lexer": "ipython3",
   "version": "3.11.5"
  }
 },
 "nbformat": 4,
 "nbformat_minor": 5
}
